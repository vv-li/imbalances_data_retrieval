{
  "nbformat": 4,
  "nbformat_minor": 0,
  "metadata": {
    "colab": {
      "provenance": [],
      "authorship_tag": "ABX9TyMP4zXeGRXDaq8uFEL7vOCe"
    },
    "kernelspec": {
      "name": "python3",
      "display_name": "Python 3"
    },
    "language_info": {
      "name": "python"
    }
  },
  "cells": [
    {
      "cell_type": "code",
      "execution_count": null,
      "metadata": {
        "id": "oRt8b15RMEmb"
      },
      "outputs": [],
      "source": [
        "import requests\n",
        "import zipfile\n",
        "import io\n",
        "import pandas as pd\n",
        "import numpy as np\n",
        "\n",
        "def download_statcan_table(url):\n",
        "\n",
        "    # Step 1: Request metadata JSON\n",
        "    meta_resp = requests.get(url)\n",
        "    meta_resp.raise_for_status()\n",
        "    meta = meta_resp.json()\n",
        "\n",
        "    # Step 2: Extract the download URL from metadata\n",
        "    download_url = meta['object']\n",
        "\n",
        "    # Step 3: Download and unzip the CSV file\n",
        "    zip_resp = requests.get(download_url)\n",
        "    zip_resp.raise_for_status()\n",
        "\n",
        "    with zipfile.ZipFile(io.BytesIO(zip_resp.content)) as z:\n",
        "        csv_filename = z.namelist()[0]\n",
        "        with z.open(csv_filename) as f:\n",
        "            df = pd.read_csv(f)\n",
        "\n",
        "    return df"
      ]
    },
    {
      "cell_type": "code",
      "source": [
        "urls = [\n",
        "    \"https://www150.statcan.gc.ca/t1/wds/rest/getFullTableDownloadCSV/14100287/en\",\n",
        "    \"https://www150.statcan.gc.ca/t1/wds/rest/getFullTableDownloadCSV/14100464/en\",\n",
        "    \"https://www150.statcan.gc.ca/t1/wds/rest/getFullTableDownloadCSV/14100292/en\",\n",
        "    \"https://www150.statcan.gc.ca/t1/wds/rest/getFullTableDownloadCSV/14100432/en\",\n",
        "    \"https://www150.statcan.gc.ca/t1/wds/rest/getFullTableDownloadCSV/14100325/en\",\n",
        "    \"https://www150.statcan.gc.ca/t1/wds/rest/getFullTableDownloadCSV/14100118/en\"\n",
        "]\n",
        "\n",
        "dataframes = {}\n",
        "\n",
        "for url in urls:\n",
        "    table_id = url.split('/')[-2]\n",
        "    dataframes[table_id] = download_statcan_table(url)"
      ],
      "metadata": {
        "colab": {
          "base_uri": "https://localhost:8080/"
        },
        "id": "SYMOa9T8NJs5",
        "outputId": "d9ee3e04-dddc-4334-fe0d-a7288d44bd75"
      },
      "execution_count": null,
      "outputs": [
        {
          "output_type": "stream",
          "name": "stderr",
          "text": [
            "/tmp/ipython-input-2027191516.py:24: DtypeWarning: Columns (15) have mixed types. Specify dtype option on import or set low_memory=False.\n",
            "  df = pd.read_csv(f)\n"
          ]
        }
      ]
    },
    {
      "cell_type": "code",
      "source": [
        "#querying the following dataset for a specific set of values: https://www150.statcan.gc.ca/t1/tbl1/en/cv.action?pid=1410028703\n",
        "# 1) Baseline labour force characteristics / imbalanaces data for provinces by month\n",
        "\n",
        "lfc_df= dataframes['14100287']\n",
        "\n",
        "lfs = (\n",
        "    lfc_df.query(\n",
        "        \"GEO != 'Canada' and \"\n",
        "        \"REF_DATE >= '2015-05' and REF_DATE <= '2025-07' and \"\n",
        "        \"`Labour force characteristics` in ['Participation rate', 'Unemployment', 'Unemployment rate', 'Employment rate'] and \"\n",
        "        \"Gender == 'Total - Gender' and \"\n",
        "        \"Statistics == 'Estimate' and \"\n",
        "        \"`Age group` == '15 years and over' and \"\n",
        "        \"`Data type` == 'Seasonally adjusted'\"\n",
        "    )\n",
        "    .assign(\n",
        "        VALUE=lambda x: np.where(\n",
        "            x['Labour force characteristics'] == 'Unemployment',  #necessary for this series alone as the original data is scaled by thousands\n",
        "            x['VALUE'] * 1000,\n",
        "            x['VALUE']\n",
        "        )\n",
        "    )\n",
        "    .loc[:, ['GEO','Labour force characteristics', 'REF_DATE', 'VALUE']]\n",
        "    .reset_index(drop=True)\n",
        ")\n",
        "\n",
        "lfs_pivoted = lfs.pivot_table(\n",
        "    index=['GEO', 'REF_DATE'],\n",
        "    columns='Labour force characteristics',\n",
        "    values='VALUE'\n",
        ").reset_index()"
      ],
      "metadata": {
        "id": "35N7F0hPUesa"
      },
      "execution_count": null,
      "outputs": []
    },
    {
      "cell_type": "code",
      "source": [
        "#UE/employment rate/participation Rates by ER, annual (for map) https://www150.statcan.gc.ca/t1/tbl1/en/tv.action?pid=1410046401\n",
        "\n",
        "lfc_er_df = dataframes['14100464']\n",
        "\n",
        "canada_pt = [\n",
        "    \"Canada\",\n",
        "    \"Alberta\",\n",
        "    \"British Columbia\",\n",
        "    \"Manitoba\",\n",
        "    \"New Brunswick\",\n",
        "    \"Newfoundland and Labrador\",\n",
        "    \"Nova Scotia\",\n",
        "    \"Ontario\",\n",
        "    \"Quebec\",\n",
        "    \"Saskatchewan\"\n",
        "]\n",
        "\n",
        "lfs_er = (\n",
        "    lfc_er_df.query(\n",
        "        \"GEO not in @canada_pt and \"\n",
        "        \"REF_DATE >= 2015 and REF_DATE <= 2024 and \"\n",
        "        \"`Labour force characteristics` in ['Participation rate', 'Unemployment', 'Unemployment rate', 'Employment rate'] \"\n",
        "    )\n",
        "    .assign(\n",
        "        VALUE=lambda x: np.where(\n",
        "            x['Labour force characteristics'] == 'Unemployment',  #necessary for this series alone as the original data is scaled by thousands\n",
        "            x['VALUE'] * 1000,\n",
        "            x['VALUE']\n",
        "        )\n",
        "    )\n",
        "    .loc[:, ['GEO','Labour force characteristics', 'REF_DATE', 'VALUE']]\n",
        "    .reset_index(drop=True)\n",
        ")\n",
        "\n",
        "lfs_er_pivoted = lfs_er.pivot_table(\n",
        "    index=['GEO', 'REF_DATE'],\n",
        "    columns='Labour force characteristics',\n",
        "    values='VALUE'\n",
        ").reset_index()\n",
        "\n",
        "lfs_er_pivoted['GEO'] = lfs_er_pivoted['GEO'].replace('Parklands and Northern, Manitoba', 'Parklands and North, Manitoba')\n",
        "lfs_er_pivoted['GEO'] = lfs_er_pivoted['GEO'].replace('South Coast-Burin Peninsula and Notre Dame-Central-Bonavista Bay, Newfoundland and Labrador', 'South Coast-Burin Peninsula and Notre Dame-Central Bonavista Bay, Newfoundland and Labrador')\n"
      ],
      "metadata": {
        "id": "hwDeCoObblcT"
      },
      "execution_count": null,
      "outputs": []
    },
    {
      "cell_type": "code",
      "source": [
        "working_age_population = (\n",
        "    lfc_df.query(\n",
        "        \"GEO != 'Canada' and \"\n",
        "        \"REF_DATE >= '2015-05' and REF_DATE <= '2025-07' and \"\n",
        "        \"`Labour force characteristics` in ['Population'] and \"\n",
        "        \"Gender == 'Total - Gender' and \"\n",
        "        \"Statistics == 'Estimate' and \"\n",
        "        \"UOM == 'Persons in thousands' and \"\n",
        "        \"`Age group` in ['15 to 24 years', '25 to 54 years', '15 years and over'] and \" #'55 to 64 years' no available data, separate calc\n",
        "        \"`Data type` == 'Seasonally adjusted'\"\n",
        "    )\n",
        "    .assign(VALUE=lambda x: x['VALUE'] * 1000)\n",
        "    .loc[:, ['GEO', 'Age group' ,'REF_DATE', 'VALUE']]\n",
        "    .reset_index(drop=True)\n",
        ")\n",
        "\n",
        "population_pct = (\n",
        "    working_age_population\n",
        "    .merge(\n",
        "        working_age_population.query(\"`Age group` == '15 years and over'\")\n",
        "        .rename(columns={'VALUE': 'total_over15'})[['GEO', 'REF_DATE', 'total_over15']],\n",
        "        on=['GEO', 'REF_DATE'],\n",
        "        how='left'\n",
        "    )\n",
        "    .assign(\n",
        "        **{'pop_pct': lambda x: (x['VALUE'] / x['total_over15'] * 100).round(2)}\n",
        "    )\n",
        "    .drop(columns='total_over15')\n",
        ")\n",
        "\n",
        "population_pct['pop_pct'] = population_pct['pop_pct'].round(2)\n",
        "\n",
        "population_pct = population_pct[['GEO', 'Age group','REF_DATE', 'VALUE' ,'pop_pct']]\n",
        "\n",
        "## investigate for territories, find 55+ group?"
      ],
      "metadata": {
        "id": "0zIqs1DLcugN"
      },
      "execution_count": null,
      "outputs": []
    },
    {
      "cell_type": "code",
      "source": [
        "#territories LFS data retrieval from https://www150.statcan.gc.ca/t1/tbl1/en/tv.action?pid=1410029201\n",
        "\n",
        "lfc_t_df = dataframes['14100464']\n",
        "\n",
        "lfs_t = (\n",
        "    lfc_t_df.query(\n",
        "        \"GEO != 'Canada' and \"\n",
        "        \"REF_DATE >= '2015-05' and REF_DATE <= '2025-07' and \"\n",
        "        \"`Labour force characteristics` in ['Participation rate', 'Unemployment', 'Unemployment rate', 'Employment rate'] and \"\n",
        "        \"Gender == 'Total - Gender' and \"\n",
        "        \"Statistics == 'Estimate' and \"\n",
        "        \"`Age group` == '15 years and over' and \"\n",
        "        \"`Data type` == 'Unadjusted'\"\n",
        "    )\n",
        "    .assign(\n",
        "        VALUE=lambda x: np.where(\n",
        "            x['Labour force characteristics'] == 'Unemployment',  #necessary for this series alone as the original data is scaled by thousands\n",
        "            x['VALUE'] * 1000,\n",
        "            x['VALUE']\n",
        "        )\n",
        "    )\n",
        "    .loc[:, ['GEO','Labour force characteristics', 'REF_DATE', 'VALUE']]\n",
        "    .reset_index(drop=True)\n",
        ")\n",
        "\n",
        "lfs_t_pivoted = lfs_t.pivot_table(\n",
        "    index=['GEO', 'REF_DATE'],\n",
        "    columns='Labour force characteristics',\n",
        "    values='VALUE'\n",
        ").reset_index()"
      ],
      "metadata": {
        "id": "sN_oZxoWc0me"
      },
      "execution_count": null,
      "outputs": []
    },
    {
      "cell_type": "code",
      "source": [
        "# same thing for vacancies: https://www150.statcan.gc.ca/t1/tbl1/en/cv.action?pid=1410043201\n",
        "\n",
        "jv_df = dataframes['14100432']\n",
        "\n",
        "vacancies = (\n",
        "    jv_df.query(\n",
        "        \"GEO != ['Canada', 'Yukon', 'Northwest Territories', 'Nunavut'] and \" #filtering out territories for now\n",
        "        \"REF_DATE >= '2015-05' and REF_DATE <= '2025-07' and \"\n",
        "        \"Statistics in ['Job vacancies','Job vacancy rate'] \"\n",
        "    )\n",
        "    [['GEO', 'Statistics', 'REF_DATE', 'VALUE']]\n",
        "    .reset_index(drop=True)\n",
        ")\n",
        "\n",
        "jvws_pivoted = vacancies.pivot_table(\n",
        "    index=['GEO', 'REF_DATE'],\n",
        "    columns='Statistics',\n",
        "    values='VALUE'\n",
        ").reset_index()"
      ],
      "metadata": {
        "id": "fPuat6h1dHjd"
      },
      "execution_count": null,
      "outputs": []
    },
    {
      "cell_type": "code",
      "source": [
        "# archived job vacancies data (quarterly) for ERs, non- seasonally adjusted https://www150.statcan.gc.ca/t1/tbl1/en/cv.action?pid=1410032501\n",
        "jvws_er_df = dataframes['14100325']\n",
        "\n",
        "jvws_er = (\n",
        "    jvws_er_df.query(\n",
        "        \"GEO not in @canada_pt and \" # canaad_pt defined earlier\n",
        "        \"REF_DATE >= '2015-01' and REF_DATE <= '2022-10' and \"\n",
        "        \"Statistics == 'Job vacancies'\"\n",
        "    )\n",
        "    .loc[:, ['GEO','Statistics', 'REF_DATE', 'VALUE']]\n",
        "    .reset_index(drop=True)\n",
        ")\n",
        "\n",
        "jvws_er_pivoted = jvws_er.pivot_table(\n",
        "    index=['GEO', 'REF_DATE'],\n",
        "    columns='Statistics',\n",
        "    values='VALUE'\n",
        ").reset_index()\n",
        "\n",
        "jvws_er_pivoted['REF_DATE'] = jvws_er_pivoted['REF_DATE'].str[:4]  # get 'YYYY' from 'YYYY-MM'\n",
        "\n",
        "jvws_er_annual = (\n",
        "    jvws_er_pivoted\n",
        "    .groupby(['REF_DATE', 'GEO'], as_index=False)['Job vacancies']\n",
        "    .apply(lambda x: x.sum() if (x.notna().sum() == 4) else np.nan)\n",
        ")\n",
        "\n",
        "jvws_er_annual['REF_DATE'] = jvws_er_annual['REF_DATE'].astype(int)"
      ],
      "metadata": {
        "id": "aHHW2u3zdZBV"
      },
      "execution_count": null,
      "outputs": []
    },
    {
      "cell_type": "code",
      "source": [
        "# separate query for territories and calculate 3-month averages\n",
        "\n",
        "t_vacancies = (\n",
        "    jv_df.query(\n",
        "        \"GEO in ['Yukon', 'Northwest Territories', 'Nunavut'] and \"\n",
        "        \"REF_DATE >= '2015-05' and REF_DATE <= '2025-07' and \"\n",
        "        \"Statistics in ['Job vacancies','Job vacancy rate'] \"\n",
        "    )\n",
        "    [['GEO', 'Statistics', 'REF_DATE', 'VALUE']]\n",
        "    .reset_index(drop=True)\n",
        ")\n",
        "\n",
        "t_vacancies_pivot = t_vacancies.pivot_table(\n",
        "    index=['GEO', 'REF_DATE'],\n",
        "    columns='Statistics',\n",
        "    values='VALUE'\n",
        ").reset_index()\n",
        "\n",
        "t_vacancies_pivot['VAC_3mm'] = (\n",
        "    t_vacancies_pivot\n",
        "    .groupby('GEO')['Job vacancies']\n",
        "    .transform(lambda x: x.rolling(window=3, min_periods=3).apply(\n",
        "        lambda w: w.mean() if not w.isna().any() else pd.NA\n",
        "    ).round(2))\n",
        ")"
      ],
      "metadata": {
        "id": "4JsiRWINdp32"
      },
      "execution_count": null,
      "outputs": []
    },
    {
      "cell_type": "code",
      "source": [
        "# tab for wages offered https://www150.statcan.gc.ca/t1/tbl1/en/tv.action?pid=1410044301\n",
        "\n",
        "w_offered_url = \"https://www150.statcan.gc.ca/t1/wds/rest/getFullTableDownloadCSV/14100443/en\"\n",
        "w_offered_resp = requests.get(w_offered_url)\n",
        "\n",
        "w_offered_meta = w_offered_resp.json()\n",
        "w_offered_download_url = w_offered_meta['object']\n",
        "\n",
        "w_offered_zip_resp = requests.get(w_offered_download_url)\n",
        "\n",
        "with zipfile.ZipFile(io.BytesIO(w_offered_zip_resp.content)) as z:\n",
        "    w_offered_csv_filename = z.namelist()[0]\n",
        "    with z.open(w_offered_csv_filename) as f:\n",
        "        chunks = []\n",
        "        for chunk in pd.read_csv(f, chunksize=100000):\n",
        "            filtered = chunk[chunk['Statistics'] == 'Average offered hourly wage'] #custom retrieval to filter for stat so it doesn't take a million years to run\n",
        "            chunks.append(filtered)\n",
        "        w_offered_df = pd.concat(chunks, ignore_index=True)\n",
        "\n",
        "wages_offered = (\n",
        "    w_offered_df.query(\n",
        "        \"GEO != ['Canada'] and \"\n",
        "        \"REF_DATE >= '2015-04' and REF_DATE <= '2025-04' and \"\n",
        "        \"`National Occupational Classification` == 'Total, all occupations' and \"\n",
        "        \"`Job vacancy characteristics` in ['Type of work, all types','Full-time','Part-time']\"\n",
        "    )\n",
        "    [['GEO', 'REF_DATE', 'VALUE','Job vacancy characteristics']]\n",
        "    .reset_index(drop=True)\n",
        ")\n",
        "\n",
        "wages_offered['Year'] = wages_offered['REF_DATE'].str[:4]  # get 'YYYY' from 'YYYY-MM'\n",
        "\n",
        "annual_wages_offered = (\n",
        "    wages_offered\n",
        "    .groupby(['Year', 'GEO', 'Job vacancy characteristics'], as_index=False)['VALUE']\n",
        "    .mean()\n",
        "    .rename(columns={'VALUE': 'offered_wage'})\n",
        "    .assign(**{'offered_wage': lambda x: x['offered_wage'].round(2)})\n",
        ")\n",
        "\n",
        "#investigate: wages by 2-digit or 3-digit noc, industries available?"
      ],
      "metadata": {
        "id": "kJVULYg4dsmd"
      },
      "execution_count": null,
      "outputs": []
    },
    {
      "cell_type": "code",
      "source": [
        "# wages earned, annual https://www150.statcan.gc.ca/t1/tbl1/en/tv.action?pid=1410041701\n",
        "\n",
        "w_earned_url = \"https://www150.statcan.gc.ca/t1/wds/rest/getFullTableDownloadCSV/14100417/en\"\n",
        "w_earned_resp = requests.get(w_earned_url)\n",
        "\n",
        "w_earned_meta = w_earned_resp.json()\n",
        "w_earned_download_url = w_earned_meta['object']\n",
        "\n",
        "w_earned_zip_resp = requests.get(w_earned_download_url)\n",
        "\n",
        "with zipfile.ZipFile(io.BytesIO(w_earned_zip_resp.content)) as z:\n",
        "    w_earned_csv_filename = z.namelist()[0]\n",
        "    with z.open(w_earned_csv_filename) as f:\n",
        "        chunks = []\n",
        "        for chunk in pd.read_csv(f, chunksize=100000):\n",
        "            filtered = chunk[chunk['Wages'] == 'Average hourly wage rate']\n",
        "            chunks.append(filtered)\n",
        "        w_earned_df = pd.concat(chunks, ignore_index=True)\n",
        "\n",
        "wages_earned = (\n",
        "    w_earned_df.query(\n",
        "        \"GEO != ['Canada'] and \"\n",
        "        \"REF_DATE>= 2015 and REF_DATE <= 2025 and \"\n",
        "        \"`National Occupational Classification (NOC)` == 'Total employees, all occupations [00-95]' and \"\n",
        "        \"`Type of work` in ['Both full- and part-time employees', 'Full-time employees', 'Part-time employees'] and \"\n",
        "        \"Gender == 'Total - Gender' and \"\n",
        "        \"`Age group` == '15 years and over' \"\n",
        "    )\n",
        "    [['GEO', 'REF_DATE', 'Type of work', 'VALUE']]\n",
        "    .reset_index(drop=True)\n",
        ")\n",
        "\n",
        "#investigate: wages by 2-digit or 3-digit noc, industries available?"
      ],
      "metadata": {
        "id": "PhjeRhS4eH5d"
      },
      "execution_count": null,
      "outputs": []
    },
    {
      "cell_type": "code",
      "source": [
        "# wages data merged\n",
        "annual_wages_offered['REF_DATE'] = annual_wages_offered['Year'].astype(int)\n",
        "annual_wages_offered = annual_wages_offered.rename(columns={\n",
        "    'Job vacancy characteristics': 'Type of work'\n",
        "})\n",
        "\n",
        "annual_wages_offered['Type of work'] = annual_wages_offered['Type of work'].replace({\n",
        "    'Type of work, all types': 'Both full- and part-time employees',\n",
        "    'Full-time': 'Full-time employees',\n",
        "    'Part-time': 'Part-time employees',\n",
        "})\n",
        "\n",
        "wages_earned = wages_earned.rename(columns={\n",
        "    'VALUE': 'earned_wage'\n",
        "})\n",
        "\n",
        "wages = pd.merge(\n",
        "    annual_wages_offered,\n",
        "    wages_earned,\n",
        "    on=['GEO', 'REF_DATE', 'Type of work'],\n",
        "    how='left'\n",
        ")"
      ],
      "metadata": {
        "id": "NORZQVW3eMH9"
      },
      "execution_count": null,
      "outputs": []
    },
    {
      "cell_type": "code",
      "source": [
        "# edu attainment bar graph: Labour force characteristics by educational degree, annual https://www150.statcan.gc.ca/t1/tbl1/en/tv.action?pid=1410011801\n",
        "\n",
        "lfs_edu_df = dataframes['14100118']"
      ],
      "metadata": {
        "id": "prUv5CtReOFw"
      },
      "execution_count": null,
      "outputs": []
    },
    {
      "cell_type": "code",
      "source": [
        "# to add:\n",
        "# employment by occupation? (Table 14-10-0416-01 Labour force characteristics by occupation, annual)\n",
        "# vacancies by occ Table 14-10-0443-01 Job vacancies, proportion of job vacancies and average offered hourly wage by occupation and selected characteristics, quarterly, unadjusted for seasonality\n",
        "# LR UE and Vacancies https://www150.statcan.gc.ca/t1/tbl1/en/tv.action?pid=1410005701 for UE (annual) and https://www150.statcan.gc.ca/t1/tbl1/en/tv.action?pid=1410044301 for vacancies (quarterly)\n",
        "# hours worked https://www150.statcan.gc.ca/t1/tbl1/en/tv.action?pid=1410004301 for annual and https://www150.statcan.gc.ca/t1/tbl1/en/tv.action?pid=1410004201 for month/province (none for territories?)\n"
      ],
      "metadata": {
        "id": "wJLK41_7eaKl"
      },
      "execution_count": null,
      "outputs": []
    },
    {
      "cell_type": "code",
      "source": [
        "# merges and tweaks\n",
        "\n",
        "lfs_jvws = pd.merge(lfs_pivoted, jvws_pivoted, on=[\"GEO\", \"REF_DATE\"], how=\"inner\")\n",
        "t_lfs_jvws = pd.merge(lfs_t_pivoted, t_vacancies_pivot, on=[\"GEO\", \"REF_DATE\"], how=\"inner\")\n",
        "er_lfs_jvws = pd.merge(lfs_er_pivoted, jvws_er_annual, on=[\"GEO\", \"REF_DATE\"], how=\"outer\")\n",
        "er_lfs_jvws.loc[~er_lfs_jvws['GEO'].str.startswith('Northeast'), 'GEO'] = (\n",
        "    er_lfs_jvws['GEO'].str.replace(r',.*', '', regex=True)\n",
        ")"
      ],
      "metadata": {
        "id": "XiyiLWWMefSu"
      },
      "execution_count": null,
      "outputs": []
    },
    {
      "cell_type": "code",
      "source": [
        "# exports\n",
        "lfs_jvws.to_excel(\"lfs_jvws.xlsx\", index=False)\n",
        "population_pct.to_excel(\"population_pct.xlsx\", index = False)\n",
        "er_lfs_jvws.to_excel(\"er_lfs_jvws.xlsx\", index=False)\n",
        "wages.to_excel(\"wages.xlsx\",index = False)"
      ],
      "metadata": {
        "id": "-yHtK5mSelUc"
      },
      "execution_count": null,
      "outputs": []
    }
  ]
}